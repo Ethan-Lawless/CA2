{
 "cells": [
  {
   "cell_type": "code",
   "execution_count": 1,
   "metadata": {},
   "outputs": [],
   "source": [
    "def seperateColumn(dataFrame):\n",
    "    dataFrame[['age', 'quality']] = dataFrame['productCode'].str.split(expand=True)\n",
    "    dataFrame['Fat'] = dataFrame['quality']\n",
    "    dataFrame['Fat'] = dataFrame.Fat.str.extract('(\\d+)') #parse number from str\n",
    "    dataFrame['quality'] =dataFrame.quality.str.replace('\\d+', '') #Remove number from string\n",
    "    dataFrame['age'].replace(['E', 'D', 'A', 'B', 'ACZ', 'CALVES-LT8MONTHS', 'C', 'Z' ],[1,2,3,4,5,6,7,8], inplace=True) #Actual quality rating, E being the best and P the worst # listed in in order of freq\n",
    "    dataFrame['age'] = dataFrame['age'].astype('int')\n",
    "    return dataFrame"
   ]
  },
  {
   "cell_type": "code",
   "execution_count": 1,
   "metadata": {},
   "outputs": [],
   "source": [
    "def test():\n",
    "    return \"hello\""
   ]
  },
  {
   "cell_type": "code",
   "execution_count": null,
   "metadata": {},
   "outputs": [],
   "source": []
  }
 ],
 "metadata": {
  "kernelspec": {
   "display_name": "Python 3 (ipykernel)",
   "language": "python",
   "name": "python3"
  },
  "language_info": {
   "codemirror_mode": {
    "name": "ipython",
    "version": 3
   },
   "file_extension": ".py",
   "mimetype": "text/x-python",
   "name": "python",
   "nbconvert_exporter": "python",
   "pygments_lexer": "ipython3",
   "version": "3.9.12"
  }
 },
 "nbformat": 4,
 "nbformat_minor": 4
}
