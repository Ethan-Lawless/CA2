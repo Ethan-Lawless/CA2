{
 "cells": [
  {
   "cell_type": "markdown",
   "id": "9dbca0a0",
   "metadata": {},
   "source": [
    "CA2 - Ethan Lawless - SBA22189 "
   ]
  },
  {
   "cell_type": "markdown",
   "id": "29192bd4",
   "metadata": {},
   "source": [
    "#Git Test Commit"
   ]
  },
  {
   "cell_type": "code",
   "execution_count": null,
   "id": "1e524f7d",
   "metadata": {},
   "outputs": [],
   "source": []
  }
 ],
 "metadata": {
  "kernelspec": {
   "display_name": "Python 3 (ipykernel)",
   "language": "python",
   "name": "python3"
  },
  "language_info": {
   "codemirror_mode": {
    "name": "ipython",
    "version": 3
   },
   "file_extension": ".py",
   "mimetype": "text/x-python",
   "name": "python",
   "nbconvert_exporter": "python",
   "pygments_lexer": "ipython3",
   "version": "3.9.12"
  }
 },
 "nbformat": 4,
 "nbformat_minor": 5
}
